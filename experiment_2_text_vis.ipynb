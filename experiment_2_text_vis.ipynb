{
 "cells": [
  {
   "cell_type": "code",
   "execution_count": null,
   "metadata": {},
   "outputs": [],
   "source": [
    "import pickle\n",
    "import tensorflow as tf\n",
    "import numpy as np\n",
    "import matplotlib.pyplot as plt\n",
    "\n",
    "from src.predictor import Predictor\n",
    "from src.textvis import RGB, TextPainter\n",
    "from src.embedding import TextIdCoverter\n",
    "from src.model import get_model\n",
    "from src.preprocessing import clean_doc"
   ]
  },
  {
   "cell_type": "markdown",
   "metadata": {},
   "source": [
    "# load data"
   ]
  },
  {
   "cell_type": "code",
   "execution_count": null,
   "metadata": {},
   "outputs": [],
   "source": [
    "# load confing\n",
    "import yaml\n",
    "import pickle\n",
    "with open('config.yaml', 'r') as f:\n",
    "    conf = yaml.load(f)\n",
    "MAX_SEQUENCE_LENGTH = conf[\"EMBEDDING\"][\"MAX_SEQUENCE_LENGTH\"]\n",
    "T = conf[\"PREDICT\"][\"T\"]"
   ]
  },
  {
   "cell_type": "code",
   "execution_count": 12,
   "metadata": {},
   "outputs": [],
   "source": [
    "# load model\n",
    "model = tf.keras.models.load_model('rnn_v0.h5')"
   ]
  },
  {
   "cell_type": "code",
   "execution_count": 13,
   "metadata": {},
   "outputs": [],
   "source": [
    "# load data\n",
    "X_val = np.load('data/X_val.npy')\n",
    "y_val = np.load('data/y_val.npy')\n",
    "\n",
    "## load word_index\n",
    "with open('data/word_index.pkl', 'rb') as f:\n",
    "    word_index = pickle.load(f)\n",
    "conv = TextIdCoverter(word_index)"
   ]
  },
  {
   "cell_type": "markdown",
   "metadata": {},
   "source": [
    "# text example"
   ]
  },
  {
   "cell_type": "code",
   "execution_count": 14,
   "metadata": {},
   "outputs": [
    {
     "data": {
      "text/plain": [
       "'It was an excellent performance by the actors and a great setting. Unfortunately, the plot was terrible. I hope that the actors find new projects.'"
      ]
     },
     "execution_count": 14,
     "metadata": {},
     "output_type": "execute_result"
    }
   ],
   "source": [
    "raw_text = \"\"\"It was an excellent performance by the actors and a great setting. Unfortunately, the plot was terrible. I hope that the actors find new projects.\"\"\"\n",
    "raw_text"
   ]
  },
  {
   "cell_type": "markdown",
   "metadata": {},
   "source": [
    "# predict"
   ]
  },
  {
   "cell_type": "code",
   "execution_count": 15,
   "metadata": {},
   "outputs": [],
   "source": [
    "p = Predictor(model, T)\n",
    "\n",
    "e_i = conv.text2id(raw_text).reshape(1, MAX_SEQUENCE_LENGTH)\n",
    "l = len(conv.id2text(e_i).split(' '))\n",
    "p_seq, u_e_seq, u_a_seq, p_input = p.predict_with_uncertainty(e_i)"
   ]
  },
  {
   "cell_type": "markdown",
   "metadata": {},
   "source": [
    "# define colour scheme"
   ]
  },
  {
   "cell_type": "code",
   "execution_count": 16,
   "metadata": {},
   "outputs": [],
   "source": [
    "rgb = RGB()\n",
    "tp = TextPainter()\n",
    "\n",
    "colors = [(51, 153, 51),(255, 255, 255), (255, 255, 255), (255, 0, 0)]\n",
    "colors2 = [(0, 0, 0), (220, 220, 220)] \n",
    "colors3 = [(0, 153, 255), (255, 255, 255), (255, 255, 255), (255, 153, 0)]\n",
    "\n",
    "WORD_RELEVANCE = rgb.get_rgb_list(100, colors)\n",
    "WORD_UNCERTAINTY = rgb.get_rgb_list(5, colors2)\n",
    "SEQ_UNCERTAINTY = rgb.get_rgb_list(100, colors3)"
   ]
  },
  {
   "cell_type": "markdown",
   "metadata": {},
   "source": [
    "# highlight relevant words"
   ]
  },
  {
   "cell_type": "code",
   "execution_count": 17,
   "metadata": {},
   "outputs": [],
   "source": [
    "# compute word relevance\n",
    "relevances = np.array(p_input)[0].mean(axis=0)[:, 1][-l:]\n",
    "relevances_diff = list(np.insert(np.diff(relevances), 0, 0))\n",
    "\n",
    "# normalize\n",
    "max_rel = max(relevances_diff)\n",
    "min_rel = min(relevances_diff)*-1\n",
    "abs_max_rel = max(max_rel, min_rel, 0)"
   ]
  },
  {
   "cell_type": "code",
   "execution_count": 18,
   "metadata": {},
   "outputs": [
    {
     "name": "stdout",
     "output_type": "stream",
     "text": [
      "\u001b[48;2;255;255;255mIt\u001b[0m \u001b[48;2;255;255;255mwas\u001b[0m \u001b[48;2;255;255;255man\u001b[0m \u001b[48;2;51;153;51mexcellent\u001b[0m \u001b[48;2;255;255;255mperformance\u001b[0m \u001b[48;2;255;255;255mby\u001b[0m \u001b[48;2;255;255;255mthe\u001b[0m \u001b[48;2;255;255;255mactors\u001b[0m \u001b[48;2;255;255;255mand\u001b[0m \u001b[48;2;255;255;255ma\u001b[0m \u001b[48;2;167;211;167mgreat\u001b[0m \u001b[48;2;255;255;255msetting.\u001b[0m \u001b[48;2;255;130;130mUnfortunately,\u001b[0m \u001b[48;2;255;255;255mthe\u001b[0m \u001b[48;2;255;252;252mplot\u001b[0m \u001b[48;2;255;255;255mwas\u001b[0m \u001b[48;2;255;7;7mterrible.\u001b[0m \u001b[48;2;255;255;255mI\u001b[0m \u001b[48;2;255;255;255mhope\u001b[0m \u001b[48;2;255;255;255mthat\u001b[0m \u001b[48;2;255;255;255mthe\u001b[0m \u001b[48;2;255;255;255mactors\u001b[0m \u001b[48;2;255;255;255mfind\u001b[0m \u001b[48;2;255;255;255mnew\u001b[0m \u001b[48;2;246;250;246mprojects.\u001b[0m\n"
     ]
    }
   ],
   "source": [
    "from numpy import linalg as LA\n",
    "text = []\n",
    "\n",
    "# fill missing words\n",
    "raw_split = raw_text.split(' ')\n",
    "removed_word_index = list(filter(lambda x: x is not None, [i if clean_doc(raw_split[i]) == '' else None for i in range(len(raw_split))]))\n",
    "for i in removed_word_index:\n",
    "    relevances_diff.insert(i, 0)\n",
    "\n",
    "# visualize words \n",
    "for i in zip([int(round((float(i)/abs_max_rel)*50))+50 for i in relevances_diff], raw_text.split(' ')):\n",
    "    text.append(tp.colour_background(i[1], WORD_RELEVANCE[i[0]]))\n",
    "print(' '.join(text))"
   ]
  },
  {
   "cell_type": "markdown",
   "metadata": {},
   "source": [
    "# highlight uncertain words"
   ]
  },
  {
   "cell_type": "code",
   "execution_count": 19,
   "metadata": {},
   "outputs": [],
   "source": [
    "# compute word uncertainty\n",
    "u_e_seq = u_e_seq.reshape((MAX_SEQUENCE_LENGTH, 2))\n",
    "u_a_seq = u_a_seq.reshape((MAX_SEQUENCE_LENGTH, 2))\n",
    "\n",
    "u_e = u_e_seq[:, 1][-l:]\n",
    "u_a = u_a_seq[:, 1][-l:]\n",
    "u_t = u_e + u_a\n",
    "\n",
    "uncertainty_diff = list(np.insert(np.diff(u_t), 0, 0))\n",
    "u_t = list(u_t)\n",
    "\n",
    "# normalize\n",
    "max_u = max(uncertainty_diff)\n",
    "min_u = min(uncertainty_diff)*-1\n",
    "abs_max_u = max(max_u, min_u, 0)"
   ]
  },
  {
   "cell_type": "code",
   "execution_count": 20,
   "metadata": {},
   "outputs": [
    {
     "name": "stdout",
     "output_type": "stream",
     "text": [
      "\u001b[38;2;220;220;220m\u001b[48;2;255;255;255mIt\u001b[0m\u001b[0m \u001b[38;2;220;220;220m\u001b[48;2;255;255;255mwas\u001b[0m\u001b[0m \u001b[38;2;220;220;220m\u001b[48;2;255;255;255man\u001b[0m\u001b[0m \u001b[38;2;43;43;43m\u001b[48;2;0;153;255mexcellent\u001b[0m\u001b[0m \u001b[38;2;88;88;88m\u001b[48;2;255;255;255mperformance\u001b[0m\u001b[0m \u001b[38;2;88;88;88m\u001b[48;2;255;255;255mby\u001b[0m\u001b[0m \u001b[38;2;88;88;88m\u001b[48;2;255;255;255mthe\u001b[0m\u001b[0m \u001b[38;2;132;132;132m\u001b[48;2;255;255;255mactors\u001b[0m\u001b[0m \u001b[38;2;88;88;88m\u001b[48;2;255;255;255mand\u001b[0m\u001b[0m \u001b[38;2;88;88;88m\u001b[48;2;255;255;255ma\u001b[0m\u001b[0m \u001b[38;2;43;43;43m\u001b[48;2;229;244;255mgreat\u001b[0m\u001b[0m \u001b[38;2;43;43;43m\u001b[48;2;255;255;255msetting.\u001b[0m\u001b[0m \u001b[38;2;88;88;88m\u001b[48;2;255;244;229mUnfortunately,\u001b[0m\u001b[0m \u001b[38;2;88;88;88m\u001b[48;2;255;255;255mthe\u001b[0m\u001b[0m \u001b[38;2;132;132;132m\u001b[48;2;255;255;255mplot\u001b[0m\u001b[0m \u001b[38;2;132;132;132m\u001b[48;2;255;255;255mwas\u001b[0m\u001b[0m \u001b[38;2;220;220;220m\u001b[48;2;255;250;244mterrible.\u001b[0m\u001b[0m \u001b[38;2;220;220;220m\u001b[48;2;255;255;255mI\u001b[0m\u001b[0m \u001b[38;2;220;220;220m\u001b[48;2;255;255;255mhope\u001b[0m\u001b[0m \u001b[38;2;220;220;220m\u001b[48;2;255;255;255mthat\u001b[0m\u001b[0m \u001b[38;2;220;220;220m\u001b[48;2;255;255;255mthe\u001b[0m\u001b[0m \u001b[38;2;220;220;220m\u001b[48;2;255;255;255mactors\u001b[0m\u001b[0m \u001b[38;2;220;220;220m\u001b[48;2;255;255;255mfind\u001b[0m\u001b[0m \u001b[38;2;220;220;220m\u001b[48;2;255;255;255mnew\u001b[0m\u001b[0m \u001b[38;2;176;176;176m\u001b[48;2;255;255;255mprojects.\u001b[0m\u001b[0m\n"
     ]
    }
   ],
   "source": [
    "text = []\n",
    "\n",
    "# fill missing words\n",
    "raw_split = raw_text.split(' ')\n",
    "removed_word_index = list(filter(lambda x: x is not None, [i if clean_doc(raw_split[i]) == '' else None for i in range(len(raw_split))]))\n",
    "for i in removed_word_index:\n",
    "    uncertainty_diff.insert(i, 0)\n",
    "    u_t.insert(i, u_t[i-1 if i > 1 else 0])\n",
    "\n",
    "# visualize words \n",
    "for i in zip([int(round((float(i)/abs_max_u)*50))+50 for i in uncertainty_diff], raw_text.split(' '), u_t):\n",
    "    text.append(tp.color_font(tp.colour_background(i[1], SEQ_UNCERTAINTY[i[0]]), WORD_UNCERTAINTY[int(round(i[2]*4*5))]))\n",
    "\n",
    "print(' '.join(text))"
   ]
  },
  {
   "cell_type": "code",
   "execution_count": null,
   "metadata": {},
   "outputs": [],
   "source": []
  },
  {
   "cell_type": "code",
   "execution_count": null,
   "metadata": {},
   "outputs": [],
   "source": []
  }
 ],
 "metadata": {
  "kernelspec": {
   "display_name": "Python 3",
   "language": "python",
   "name": "python3"
  },
  "language_info": {
   "codemirror_mode": {
    "name": "ipython",
    "version": 3
   },
   "file_extension": ".py",
   "mimetype": "text/x-python",
   "name": "python",
   "nbconvert_exporter": "python",
   "pygments_lexer": "ipython3",
   "version": "3.7.4"
  }
 },
 "nbformat": 4,
 "nbformat_minor": 4
}
